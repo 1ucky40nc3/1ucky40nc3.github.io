{
  "nbformat": 4,
  "nbformat_minor": 0,
  "metadata": {
    "colab": {
      "provenance": [],
      "collapsed_sections": [],
      "authorship_tag": "ABX9TyNMN2Whx9EoZv8XYLs5ljzL",
      "include_colab_link": true
    },
    "kernelspec": {
      "name": "python3",
      "display_name": "Python 3"
    },
    "language_info": {
      "name": "python"
    }
  },
  "cells": [
    {
      "cell_type": "markdown",
      "metadata": {
        "id": "view-in-github",
        "colab_type": "text"
      },
      "source": [
        "<a href=\"https://colab.research.google.com/github/1ucky40nc3/1ucky40nc3.github.io/blob/main/directory_structure.ipynb\" target=\"_parent\"><img src=\"https://colab.research.google.com/assets/colab-badge.svg\" alt=\"Open In Colab\"/></a>"
      ]
    },
    {
      "cell_type": "code",
      "source": [
        "!apt install tree"
      ],
      "metadata": {
        "id": "tVV14rlu1-SQ",
        "colab": {
          "base_uri": "https://localhost:8080/"
        },
        "outputId": "4fcd7ad7-f937-4f10-bf62-0a013c079fe1"
      },
      "execution_count": 1,
      "outputs": [
        {
          "output_type": "stream",
          "name": "stdout",
          "text": [
            "Reading package lists... Done\n",
            "Building dependency tree       \n",
            "Reading state information... Done\n",
            "The following package was automatically installed and is no longer required:\n",
            "  libnvidia-common-460\n",
            "Use 'apt autoremove' to remove it.\n",
            "The following NEW packages will be installed:\n",
            "  tree\n",
            "0 upgraded, 1 newly installed, 0 to remove and 20 not upgraded.\n",
            "Need to get 40.7 kB of archives.\n",
            "After this operation, 105 kB of additional disk space will be used.\n",
            "Get:1 http://archive.ubuntu.com/ubuntu bionic/universe amd64 tree amd64 1.7.0-5 [40.7 kB]\n",
            "Fetched 40.7 kB in 0s (747 kB/s)\n",
            "Selecting previously unselected package tree.\n",
            "(Reading database ... 155685 files and directories currently installed.)\n",
            "Preparing to unpack .../tree_1.7.0-5_amd64.deb ...\n",
            "Unpacking tree (1.7.0-5) ...\n",
            "Setting up tree (1.7.0-5) ...\n",
            "Processing triggers for man-db (2.8.3-2ubuntu0.1) ...\n"
          ]
        }
      ]
    },
    {
      "cell_type": "code",
      "source": [
        "root = \"project\"\n",
        "!rm -r $root\n",
        "!mkdir $root\n",
        "\n",
        "!mkdir -p $root/customer-input\n",
        "!touch $root/customer-input/test.ai\n",
        "!touch $root/customer-input/test.docx\n",
        "!touch $root/customer-input/test.jpg\n",
        "\n",
        "!mkdir -p $root/neutral\n",
        "!touch $root/neutral/test.txt\n",
        "!touch $root/neutral/test.tif\n",
        "!touch $root/neutral/test.pdf\n",
        "\n",
        "!mkdir -p $root/web\n",
        "!touch $root/web/test.txt\n",
        "!touch $root/web/test.jpg\n",
        "!touch $root/web/test.pdf\n",
        "\n",
        "!mkdir -p $root/social\n",
        "!touch $root/social/test.jpg"
      ],
      "metadata": {
        "id": "USkYmovO2D-y"
      },
      "execution_count": null,
      "outputs": []
    },
    {
      "cell_type": "code",
      "source": [
        "!tree $root"
      ],
      "metadata": {
        "colab": {
          "base_uri": "https://localhost:8080/"
        },
        "id": "cvZ5feZU2I42",
        "outputId": "199d80ab-6f4c-4aea-c4bb-dd792a8c7235"
      },
      "execution_count": null,
      "outputs": [
        {
          "output_type": "stream",
          "name": "stdout",
          "text": [
            "project\n",
            "├── customer-input\n",
            "│   ├── test.ai\n",
            "│   ├── test.docx\n",
            "│   └── test.jpg\n",
            "├── neutral\n",
            "│   ├── test.pdf\n",
            "│   ├── test.tif\n",
            "│   └── test.txt\n",
            "├── social\n",
            "│   └── test.jpg\n",
            "└── web\n",
            "    ├── test.jpg\n",
            "    ├── test.pdf\n",
            "    └── test.txt\n",
            "\n",
            "4 directories, 10 files\n"
          ]
        }
      ]
    },
    {
      "cell_type": "markdown",
      "source": [
        "---"
      ],
      "metadata": {
        "id": "RvT-f1yTXVkq"
      }
    },
    {
      "cell_type": "code",
      "source": [
        "root = \"project\"\n",
        "!rm -r $root\n",
        "!mkdir $root\n",
        "\n",
        "path = f\"{root}/customer-input\"\n",
        "!mkdir -p $path\n",
        "!touch $path/logo.pdf\n",
        "!touch $path/form.pdf\n",
        "!touch $path/partner1.pdf\n",
        "!touch $path/partner2.pdf\n",
        "!touch $path/partner3.pdf\n",
        "\n",
        "path = f\"{root}/neutral\"\n",
        "!mkdir -p $path\n",
        "!touch $path/data.xml\n",
        "!touch $path/logo.pdf\n",
        "!touch $path/partner1.pdf\n",
        "!touch $path/partner2.pdf\n",
        "!touch $path/partner3.pdf\n",
        "!touch $path/img1.tif\n",
        "!touch $path/img2.tif\n",
        "!touch $path/img3.tif\n",
        "\n",
        "path = f\"{root}/web\"\n",
        "!mkdir -p $path\n",
        "!touch $path/web.xml\n",
        "!touch $path/index.html\n",
        "!touch $path/logo.svg\n",
        "!touch $path/partner1.svg\n",
        "!touch $path/partner2.svg\n",
        "!touch $path/partner3.svg\n",
        "!touch $path/img1.jpg\n",
        "!touch $path/img2.jpg\n",
        "!touch $path/img3.jpg\n",
        "\n",
        "path = f\"{root}/social\"\n",
        "!mkdir -p $path\n",
        "!touch $path/social.xml\n",
        "!touch $path/img.jpg\n",
        "!touch $path/api_instructions.xml\n",
        "\n",
        "path = f\"{root}/print\"\n",
        "!mkdir -p $path\n",
        "!touch $path/print.xml\n",
        "!touch $path/print.pdf"
      ],
      "metadata": {
        "id": "MM-nv2HY46PQ"
      },
      "execution_count": 12,
      "outputs": []
    },
    {
      "cell_type": "code",
      "source": [
        "!tree $root"
      ],
      "metadata": {
        "colab": {
          "base_uri": "https://localhost:8080/"
        },
        "id": "pnF4GlIVXRxD",
        "outputId": "7e907950-8443-44c8-8b22-d9f8c1cbddad"
      },
      "execution_count": 13,
      "outputs": [
        {
          "output_type": "stream",
          "name": "stdout",
          "text": [
            "project\n",
            "├── customer-input\n",
            "│   ├── form.pdf\n",
            "│   ├── logo.pdf\n",
            "│   ├── partner1.pdf\n",
            "│   ├── partner2.pdf\n",
            "│   └── partner3.pdf\n",
            "├── neutral\n",
            "│   ├── data.xml\n",
            "│   ├── img1.tif\n",
            "│   ├── img2.tif\n",
            "│   ├── img3.tif\n",
            "│   ├── logo.pdf\n",
            "│   ├── partner1.pdf\n",
            "│   ├── partner2.pdf\n",
            "│   └── partner3.pdf\n",
            "├── print\n",
            "│   ├── print.pdf\n",
            "│   └── print.xml\n",
            "├── social\n",
            "│   ├── api_instructions.xml\n",
            "│   ├── img.jpg\n",
            "│   └── social.xml\n",
            "└── web\n",
            "    ├── img1.jpg\n",
            "    ├── img2.jpg\n",
            "    ├── img3.jpg\n",
            "    ├── index.html\n",
            "    ├── logo.svg\n",
            "    ├── partner1.svg\n",
            "    ├── partner2.svg\n",
            "    ├── partner3.svg\n",
            "    └── web.xml\n",
            "\n",
            "5 directories, 27 files\n"
          ]
        }
      ]
    },
    {
      "cell_type": "code",
      "source": [],
      "metadata": {
        "id": "vRcOLiTjjpiT"
      },
      "execution_count": null,
      "outputs": []
    }
  ]
}